{
 "cells": [
  {
   "cell_type": "markdown",
   "id": "da5da63f",
   "metadata": {},
   "source": [
    "## bricks/load_dataset.py"
   ]
  },
  {
   "cell_type": "code",
   "execution_count": 1,
   "id": "74ef72e5",
   "metadata": {},
   "outputs": [
    {
     "name": "stderr",
     "output_type": "stream",
     "text": [
      "/Users/roopakkrishna/Documents/Projectss/kubyssss/venv/lib/python3.12/site-packages/tqdm/auto.py:21: TqdmWarning: IProgress not found. Please update jupyter and ipywidgets. See https://ipywidgets.readthedocs.io/en/stable/user_install.html\n",
      "  from .autonotebook import tqdm as notebook_tqdm\n"
     ]
    }
   ],
   "source": [
    "from datasets import load_dataset\n",
    "\n",
    "def get_dataset(data_path=None):\n",
    "    if data_path:\n",
    "        return load_dataset(\"csv\", data_files={\"train\": data_path})\n",
    "    return load_dataset(\"imdb\")"
   ]
  },
  {
   "cell_type": "markdown",
   "id": "cb6259a6",
   "metadata": {},
   "source": [
    "## bricks/load_tokenizer.py"
   ]
  },
  {
   "cell_type": "code",
   "execution_count": 2,
   "id": "1383eac5",
   "metadata": {},
   "outputs": [],
   "source": [
    "\n",
    "from transformers import AutoTokenizer\n",
    "\n",
    "def get_tokenizer(model_name):\n",
    "    return AutoTokenizer.from_pretrained(model_name, use_fast=True)"
   ]
  },
  {
   "cell_type": "markdown",
   "id": "5f73fbee",
   "metadata": {},
   "source": [
    "## bricks/load_model.py"
   ]
  },
  {
   "cell_type": "code",
   "execution_count": 3,
   "id": "5c54f5a8",
   "metadata": {},
   "outputs": [],
   "source": [
    "from transformers import AutoModelForCausalLM\n",
    "\n",
    "def get_model(model_name):\n",
    "    return AutoModelForCausalLM.from_pretrained(model_name)"
   ]
  },
  {
   "cell_type": "markdown",
   "id": "9611c72f",
   "metadata": {
    "vscode": {
     "languageId": "plaintext"
    }
   },
   "source": [
    "## bricks/training_args.py"
   ]
  },
  {
   "cell_type": "code",
   "execution_count": 4,
   "id": "5dbc44d4",
   "metadata": {},
   "outputs": [],
   "source": [
    "from transformers import TrainingArguments\n",
    "\n",
    "def get_training_args(output_dir=\"./results\"):\n",
    "    return TrainingArguments(\n",
    "        output_dir=output_dir,\n",
    "        per_device_train_batch_size=4,\n",
    "        num_train_epochs=3,\n",
    "        logging_dir=\"./logs\",\n",
    "        save_total_limit=2\n",
    "    )"
   ]
  },
  {
   "cell_type": "markdown",
   "id": "8ce97fd8",
   "metadata": {},
   "source": [
    "## bricks/trainer.py"
   ]
  },
  {
   "cell_type": "code",
   "execution_count": 5,
   "id": "b346cbda",
   "metadata": {},
   "outputs": [],
   "source": [
    "from transformers import Trainer\n",
    "\n",
    "def train_model(model, tokenizer, dataset, training_args):\n",
    "    trainer = Trainer(\n",
    "        model=model,\n",
    "        args=training_args,\n",
    "        train_dataset=dataset[\"train\"],\n",
    "        tokenizer=tokenizer\n",
    "    )\n",
    "    trainer.train()\n"
   ]
  },
  {
   "cell_type": "markdown",
   "id": "67fa0b70",
   "metadata": {},
   "source": [
    "## bricks/kubeflow_launcher.py"
   ]
  },
  {
   "cell_type": "code",
   "execution_count": 6,
   "id": "09b8037c",
   "metadata": {},
   "outputs": [],
   "source": [
    "def launch_with_kubeflow():\n",
    "    # This is a placeholder for launching via the Training Operator\n",
    "    # You can later use `kfp` SDK or YAML for PyTorchJob\n",
    "    print(\"Launching training job on Kubeflow...\")\n"
   ]
  },
  {
   "cell_type": "markdown",
   "id": "79f12961",
   "metadata": {},
   "source": [
    "## bricks/main.py"
   ]
  },
  {
   "cell_type": "code",
   "execution_count": 7,
   "id": "d9b30cb6",
   "metadata": {},
   "outputs": [
    {
     "ename": "ModuleNotFoundError",
     "evalue": "No module named 'bricks'",
     "output_type": "error",
     "traceback": [
      "\u001b[31m---------------------------------------------------------------------------\u001b[39m",
      "\u001b[31mModuleNotFoundError\u001b[39m                       Traceback (most recent call last)",
      "\u001b[36mCell\u001b[39m\u001b[36m \u001b[39m\u001b[32mIn[7]\u001b[39m\u001b[32m, line 1\u001b[39m\n\u001b[32m----> \u001b[39m\u001b[32m1\u001b[39m \u001b[38;5;28;01mfrom\u001b[39;00m\u001b[38;5;250m \u001b[39m\u001b[34;01mbricks\u001b[39;00m\u001b[34;01m.\u001b[39;00m\u001b[34;01mload_dataset\u001b[39;00m\u001b[38;5;250m \u001b[39m\u001b[38;5;28;01mimport\u001b[39;00m get_dataset\n\u001b[32m      2\u001b[39m \u001b[38;5;28;01mfrom\u001b[39;00m\u001b[38;5;250m \u001b[39m\u001b[34;01mbricks\u001b[39;00m\u001b[34;01m.\u001b[39;00m\u001b[34;01mload_tokenizer\u001b[39;00m\u001b[38;5;250m \u001b[39m\u001b[38;5;28;01mimport\u001b[39;00m get_tokenizer\n\u001b[32m      3\u001b[39m \u001b[38;5;28;01mfrom\u001b[39;00m\u001b[38;5;250m \u001b[39m\u001b[34;01mbricks\u001b[39;00m\u001b[34;01m.\u001b[39;00m\u001b[34;01mload_model\u001b[39;00m\u001b[38;5;250m \u001b[39m\u001b[38;5;28;01mimport\u001b[39;00m get_model\n",
      "\u001b[31mModuleNotFoundError\u001b[39m: No module named 'bricks'"
     ]
    }
   ],
   "source": [
    "from bricks.load_dataset import get_dataset\n",
    "from bricks.load_tokenizer import get_tokenizer\n",
    "from bricks.load_model import get_model\n",
    "from bricks.training_args import get_training_args\n",
    "from bricks.trainer import train_model\n",
    "\n",
    "def main():\n",
    "    model_name = \"gpt2\"\n",
    "    dataset = get_dataset()\n",
    "    tokenizer = get_tokenizer(model_name)\n",
    "    model = get_model(model_name)\n",
    "    args = get_training_args()\n",
    "    train_model(model, tokenizer, dataset, args)\n",
    "\n",
    "if __name__ == \"__main__\":\n",
    "    main()\n"
   ]
  },
  {
   "cell_type": "code",
   "execution_count": null,
   "id": "a70e7fa4",
   "metadata": {},
   "outputs": [],
   "source": []
  }
 ],
 "metadata": {
  "kernelspec": {
   "display_name": "venv",
   "language": "python",
   "name": "python3"
  },
  "language_info": {
   "codemirror_mode": {
    "name": "ipython",
    "version": 3
   },
   "file_extension": ".py",
   "mimetype": "text/x-python",
   "name": "python",
   "nbconvert_exporter": "python",
   "pygments_lexer": "ipython3",
   "version": "3.12.4"
  }
 },
 "nbformat": 4,
 "nbformat_minor": 5
}
